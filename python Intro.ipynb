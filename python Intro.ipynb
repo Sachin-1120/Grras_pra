{
 "cells": [
  {
   "cell_type": "markdown",
   "id": "5335b69c",
   "metadata": {},
   "source": []
  },
  {
   "cell_type": "code",
   "execution_count": null,
   "id": "1b1a55fb",
   "metadata": {},
   "outputs": [],
   "source": []
  },
  {
   "cell_type": "code",
   "execution_count": 9,
   "id": "dc29cf4a",
   "metadata": {},
   "outputs": [
    {
     "name": "stdout",
     "output_type": "stream",
     "text": [
      "Sachin \n",
      "Sharma\n",
      "Grras \n",
      "Solution\n"
     ]
    }
   ],
   "source": [
    "print('Sachin \\nSharma')\n",
    "print('Grras \\nSolution')\n"
   ]
  },
  {
   "cell_type": "code",
   "execution_count": 2,
   "id": "0597b41b",
   "metadata": {},
   "outputs": [
    {
     "data": {
      "text/plain": [
       "'Sachin Sharma'"
      ]
     },
     "execution_count": 2,
     "metadata": {},
     "output_type": "execute_result"
    }
   ],
   "source": [
    "'Sachin Sharma'"
   ]
  },
  {
   "cell_type": "code",
   "execution_count": 7,
   "id": "8ce0d419",
   "metadata": {},
   "outputs": [
    {
     "data": {
      "text/plain": [
       "'Prints the values to a stream, or to sys.stdout by default.\\n\\n  sep\\n    string inserted between values, default a space.\\n  end\\n    string appended after the last value, default a newline.\\n  file\\n    a file-like object (stream); defaults to the current sys.stdout.\\n  flush\\n    whether to forcibly flush the stream.'"
      ]
     },
     "execution_count": 7,
     "metadata": {},
     "output_type": "execute_result"
    }
   ],
   "source": []
  },
  {
   "cell_type": "code",
   "execution_count": null,
   "id": "2df7994f",
   "metadata": {},
   "outputs": [],
   "source": []
  },
  {
   "cell_type": "code",
   "execution_count": 2,
   "id": "c7016ab4",
   "metadata": {},
   "outputs": [
    {
     "name": "stdout",
     "output_type": "stream",
     "text": [
      "Enter Your NameSachin\n"
     ]
    }
   ],
   "source": [
    "a=input('Enter Your Name')"
   ]
  },
  {
   "cell_type": "code",
   "execution_count": 3,
   "id": "775e6265",
   "metadata": {},
   "outputs": [
    {
     "name": "stdout",
     "output_type": "stream",
     "text": [
      "Sachin\n"
     ]
    }
   ],
   "source": [
    "print(a)"
   ]
  },
  {
   "cell_type": "code",
   "execution_count": 4,
   "id": "83d77a3f",
   "metadata": {},
   "outputs": [],
   "source": [
    "?"
   ]
  },
  {
   "cell_type": "code",
   "execution_count": 6,
   "id": "105cc863",
   "metadata": {},
   "outputs": [],
   "source": [
    "a1=5"
   ]
  },
  {
   "cell_type": "code",
   "execution_count": 8,
   "id": "9ce4008e",
   "metadata": {},
   "outputs": [],
   "source": []
  },
  {
   "cell_type": "code",
   "execution_count": 1,
   "id": "97d376e9",
   "metadata": {},
   "outputs": [
    {
     "name": "stdout",
     "output_type": "stream",
     "text": [
      "12\n"
     ]
    }
   ],
   "source": [
    "print('12')"
   ]
  },
  {
   "cell_type": "code",
   "execution_count": 2,
   "id": "c9aee9f5",
   "metadata": {},
   "outputs": [],
   "source": [
    "__=10"
   ]
  },
  {
   "cell_type": "code",
   "execution_count": 3,
   "id": "cbb2a46e",
   "metadata": {},
   "outputs": [
    {
     "data": {
      "text/plain": [
       "10"
      ]
     },
     "execution_count": 3,
     "metadata": {},
     "output_type": "execute_result"
    }
   ],
   "source": [
    "__"
   ]
  },
  {
   "cell_type": "code",
   "execution_count": 4,
   "id": "e1e19dd1",
   "metadata": {},
   "outputs": [],
   "source": [
    "sachin_sharma=10"
   ]
  },
  {
   "cell_type": "code",
   "execution_count": 5,
   "id": "63fc436f",
   "metadata": {},
   "outputs": [
    {
     "data": {
      "text/plain": [
       "10"
      ]
     },
     "execution_count": 5,
     "metadata": {},
     "output_type": "execute_result"
    }
   ],
   "source": [
    "sachin_sharma"
   ]
  },
  {
   "cell_type": "code",
   "execution_count": 6,
   "id": "5178634d",
   "metadata": {},
   "outputs": [],
   "source": [
    "name='SAchin Sharma'"
   ]
  },
  {
   "cell_type": "code",
   "execution_count": 7,
   "id": "60afc925",
   "metadata": {},
   "outputs": [
    {
     "data": {
      "text/plain": [
       "'SAchin Sharma'"
      ]
     },
     "execution_count": 7,
     "metadata": {},
     "output_type": "execute_result"
    }
   ],
   "source": [
    "name"
   ]
  },
  {
   "cell_type": "code",
   "execution_count": null,
   "id": "3fa2e94d",
   "metadata": {},
   "outputs": [],
   "source": [
    "\"7878012779\""
   ]
  },
  {
   "cell_type": "code",
   "execution_count": 10,
   "id": "1d1a1f1c",
   "metadata": {},
   "outputs": [],
   "source": [
    "a=5.0"
   ]
  },
  {
   "cell_type": "code",
   "execution_count": 11,
   "id": "e914aa1c",
   "metadata": {},
   "outputs": [
    {
     "name": "stdout",
     "output_type": "stream",
     "text": [
      "<class 'float'>\n"
     ]
    }
   ],
   "source": [
    "print(type(a))"
   ]
  },
  {
   "cell_type": "code",
   "execution_count": 12,
   "id": "744b40d2",
   "metadata": {},
   "outputs": [
    {
     "data": {
      "text/plain": [
       "11"
      ]
     },
     "execution_count": 12,
     "metadata": {},
     "output_type": "execute_result"
    }
   ],
   "source": [
    "5+6"
   ]
  },
  {
   "cell_type": "code",
   "execution_count": 13,
   "id": "a83cf2bd",
   "metadata": {},
   "outputs": [
    {
     "data": {
      "text/plain": [
       "-1"
      ]
     },
     "execution_count": 13,
     "metadata": {},
     "output_type": "execute_result"
    }
   ],
   "source": [
    "5-6"
   ]
  },
  {
   "cell_type": "code",
   "execution_count": 14,
   "id": "e7a4e02b",
   "metadata": {},
   "outputs": [
    {
     "data": {
      "text/plain": [
       "30"
      ]
     },
     "execution_count": 14,
     "metadata": {},
     "output_type": "execute_result"
    }
   ],
   "source": [
    "5*6"
   ]
  },
  {
   "cell_type": "code",
   "execution_count": 18,
   "id": "07fc2e8f",
   "metadata": {},
   "outputs": [
    {
     "data": {
      "text/plain": [
       "0.8333333333333334"
      ]
     },
     "execution_count": 18,
     "metadata": {},
     "output_type": "execute_result"
    }
   ],
   "source": [
    "5/6"
   ]
  },
  {
   "cell_type": "code",
   "execution_count": 17,
   "id": "7aea9fa9",
   "metadata": {},
   "outputs": [
    {
     "data": {
      "text/plain": [
       "0"
      ]
     },
     "execution_count": 17,
     "metadata": {},
     "output_type": "execute_result"
    }
   ],
   "source": [
    "5//6"
   ]
  },
  {
   "cell_type": "code",
   "execution_count": 19,
   "id": "a2f50bc3",
   "metadata": {},
   "outputs": [
    {
     "name": "stdout",
     "output_type": "stream",
     "text": [
      "0.8333333333333334\n"
     ]
    }
   ],
   "source": [
    "print(5/6)"
   ]
  },
  {
   "cell_type": "code",
   "execution_count": 24,
   "id": "84f3ab6a",
   "metadata": {},
   "outputs": [
    {
     "name": "stdout",
     "output_type": "stream",
     "text": [
      "5\n",
      "6\n",
      "0.8333333333333334\n"
     ]
    }
   ],
   "source": [
    "a=5\n",
    "b=6\n",
    "print(a,b,a/b,sep='\\n')"
   ]
  },
  {
   "cell_type": "code",
   "execution_count": 25,
   "id": "ff75e4e4",
   "metadata": {},
   "outputs": [
    {
     "name": "stdout",
     "output_type": "stream",
     "text": [
      "Enter Your NAmeSachin\n",
      "Sachin\n"
     ]
    }
   ],
   "source": [
    "print(input('Enter Your NAme'))"
   ]
  },
  {
   "cell_type": "code",
   "execution_count": null,
   "id": "0551aea2",
   "metadata": {},
   "outputs": [],
   "source": [
    "'Sachin Sharma 7878012779'"
   ]
  },
  {
   "cell_type": "code",
   "execution_count": 29,
   "id": "961d1448",
   "metadata": {},
   "outputs": [
    {
     "name": "stdout",
     "output_type": "stream",
     "text": [
      "Enter your nameSachin \n",
      "Enter Your Number7878012779\n",
      "Sachin  Grras Solution 7878012779\n"
     ]
    }
   ],
   "source": [
    "print(input('Enter your name'),input('Enter Your Number'),sep=' Grras Solution ')"
   ]
  },
  {
   "cell_type": "code",
   "execution_count": 30,
   "id": "b31a2d4f",
   "metadata": {},
   "outputs": [
    {
     "data": {
      "text/plain": [
       "25"
      ]
     },
     "execution_count": 30,
     "metadata": {},
     "output_type": "execute_result"
    }
   ],
   "source": [
    "5*5"
   ]
  },
  {
   "cell_type": "code",
   "execution_count": 34,
   "id": "8db65a99",
   "metadata": {},
   "outputs": [
    {
     "data": {
      "text/plain": [
       "9765625"
      ]
     },
     "execution_count": 34,
     "metadata": {},
     "output_type": "execute_result"
    }
   ],
   "source": [
    "5**10"
   ]
  },
  {
   "cell_type": "code",
   "execution_count": 35,
   "id": "c0429537",
   "metadata": {},
   "outputs": [
    {
     "data": {
      "text/plain": [
       "125"
      ]
     },
     "execution_count": 35,
     "metadata": {},
     "output_type": "execute_result"
    }
   ],
   "source": [
    "5**3"
   ]
  },
  {
   "cell_type": "code",
   "execution_count": 36,
   "id": "1c603693",
   "metadata": {},
   "outputs": [
    {
     "data": {
      "text/plain": [
       "15"
      ]
     },
     "execution_count": 36,
     "metadata": {},
     "output_type": "execute_result"
    }
   ],
   "source": [
    "3*5"
   ]
  },
  {
   "cell_type": "code",
   "execution_count": 1,
   "id": "e56d2bf0",
   "metadata": {},
   "outputs": [],
   "source": [
    "a=5"
   ]
  },
  {
   "cell_type": "code",
   "execution_count": 38,
   "id": "ad2b2b12",
   "metadata": {},
   "outputs": [
    {
     "data": {
      "text/plain": [
       "15"
      ]
     },
     "execution_count": 38,
     "metadata": {},
     "output_type": "execute_result"
    }
   ],
   "source": [
    "5*3"
   ]
  },
  {
   "cell_type": "code",
   "execution_count": 2,
   "id": "293190c6",
   "metadata": {},
   "outputs": [
    {
     "name": "stdout",
     "output_type": "stream",
     "text": [
      "['__abs__', '__add__', '__and__', '__bool__', '__ceil__', '__class__', '__delattr__', '__dir__', '__divmod__', '__doc__', '__eq__', '__float__', '__floor__', '__floordiv__', '__format__', '__ge__', '__getattribute__', '__getnewargs__', '__getstate__', '__gt__', '__hash__', '__index__', '__init__', '__init_subclass__', '__int__', '__invert__', '__le__', '__lshift__', '__lt__', '__mod__', '__mul__', '__ne__', '__neg__', '__new__', '__or__', '__pos__', '__pow__', '__radd__', '__rand__', '__rdivmod__', '__reduce__', '__reduce_ex__', '__repr__', '__rfloordiv__', '__rlshift__', '__rmod__', '__rmul__', '__ror__', '__round__', '__rpow__', '__rrshift__', '__rshift__', '__rsub__', '__rtruediv__', '__rxor__', '__setattr__', '__sizeof__', '__str__', '__sub__', '__subclasshook__', '__truediv__', '__trunc__', '__xor__', 'as_integer_ratio', 'bit_count', 'bit_length', 'conjugate', 'denominator', 'from_bytes', 'imag', 'numerator', 'real', 'to_bytes']\n"
     ]
    }
   ],
   "source": [
    "print(dir(a))"
   ]
  },
  {
   "cell_type": "code",
   "execution_count": 3,
   "id": "96274bf7",
   "metadata": {},
   "outputs": [
    {
     "data": {
      "text/plain": [
       "11"
      ]
     },
     "execution_count": 3,
     "metadata": {},
     "output_type": "execute_result"
    }
   ],
   "source": [
    "a.__add__(6)"
   ]
  },
  {
   "cell_type": "code",
   "execution_count": 4,
   "id": "daeb80ef",
   "metadata": {},
   "outputs": [
    {
     "data": {
      "text/plain": [
       "1"
      ]
     },
     "execution_count": 4,
     "metadata": {},
     "output_type": "execute_result"
    }
   ],
   "source": [
    "5%2"
   ]
  },
  {
   "cell_type": "code",
   "execution_count": null,
   "id": "65fa1c03",
   "metadata": {},
   "outputs": [],
   "source": [
    "a='Sachin'// \"SAchin \""
   ]
  },
  {
   "cell_type": "code",
   "execution_count": null,
   "id": "34f1ad6a",
   "metadata": {},
   "outputs": [],
   "source": [
    "a='''\n",
    "dnwbhifghojh\n",
    "4faihgj\n",
    "nkovfnKPM\n",
    "4NJOHadfskp\n",
    "njobfaeijo\n",
    "\n",
    "\n",
    "\n",
    "\n",
    "\n",
    "\n",
    "\n",
    "'''"
   ]
  },
  {
   "cell_type": "code",
   "execution_count": null,
   "id": "9bf3606a",
   "metadata": {},
   "outputs": [],
   "source": [
    "a=\"\"\"\n",
    "\n",
    "adfsaf\n",
    "fedf\n",
    "adsf\n",
    "\n",
    "\n",
    "\"\"\""
   ]
  },
  {
   "cell_type": "code",
   "execution_count": 8,
   "id": "f85f01dc",
   "metadata": {},
   "outputs": [],
   "source": [
    "a='Sachin Sharma \"grras Solution\" '"
   ]
  },
  {
   "cell_type": "code",
   "execution_count": 9,
   "id": "552eb61f",
   "metadata": {},
   "outputs": [
    {
     "name": "stdout",
     "output_type": "stream",
     "text": [
      "Sachin Sharma \"grras Solution\" \n"
     ]
    }
   ],
   "source": [
    "print(a)"
   ]
  },
  {
   "cell_type": "code",
   "execution_count": 21,
   "id": "5f6b9596",
   "metadata": {},
   "outputs": [],
   "source": [
    "a='Sachin sharma at \\n nvidia '"
   ]
  },
  {
   "cell_type": "code",
   "execution_count": 23,
   "id": "f25dedc7",
   "metadata": {},
   "outputs": [
    {
     "name": "stdout",
     "output_type": "stream",
     "text": [
      "Sachin sharma at \n",
      " nvidia \n"
     ]
    }
   ],
   "source": [
    "print(a)"
   ]
  },
  {
   "cell_type": "code",
   "execution_count": 2,
   "id": "8ec02fdb",
   "metadata": {},
   "outputs": [
    {
     "data": {
      "text/plain": [
       "'sachin Sharma'"
      ]
     },
     "execution_count": 2,
     "metadata": {},
     "output_type": "execute_result"
    }
   ],
   "source": [
    "'sachin'+' '+'Sharma'"
   ]
  },
  {
   "cell_type": "code",
   "execution_count": 6,
   "id": "78e9684a",
   "metadata": {},
   "outputs": [
    {
     "name": "stdout",
     "output_type": "stream",
     "text": [
      "sachin\tsharma\n"
     ]
    }
   ],
   "source": [
    "print('sachin\\t'+'sharma')"
   ]
  },
  {
   "cell_type": "code",
   "execution_count": 7,
   "id": "1e74fb8d",
   "metadata": {},
   "outputs": [],
   "source": [
    "a='python programming'\n"
   ]
  },
  {
   "cell_type": "code",
   "execution_count": 17,
   "id": "f4576026",
   "metadata": {},
   "outputs": [
    {
     "ename": "IndexError",
     "evalue": "string index out of range",
     "output_type": "error",
     "traceback": [
      "\u001b[1;31m---------------------------------------------------------------------------\u001b[0m",
      "\u001b[1;31mIndexError\u001b[0m                                Traceback (most recent call last)",
      "Cell \u001b[1;32mIn[17], line 1\u001b[0m\n\u001b[1;32m----> 1\u001b[0m a[\u001b[38;5;241m-\u001b[39m\u001b[38;5;241m25\u001b[39m]\n",
      "\u001b[1;31mIndexError\u001b[0m: string index out of range"
     ]
    }
   ],
   "source": [
    "a[-25]"
   ]
  },
  {
   "cell_type": "code",
   "execution_count": 9,
   "id": "b87b8e6d",
   "metadata": {},
   "outputs": [
    {
     "data": {
      "text/plain": [
       "'p'"
      ]
     },
     "execution_count": 9,
     "metadata": {},
     "output_type": "execute_result"
    }
   ],
   "source": [
    "a[7]"
   ]
  },
  {
   "cell_type": "code",
   "execution_count": 10,
   "id": "c4f2ca0e",
   "metadata": {},
   "outputs": [
    {
     "data": {
      "text/plain": [
       "'m'"
      ]
     },
     "execution_count": 10,
     "metadata": {},
     "output_type": "execute_result"
    }
   ],
   "source": [
    "a[13]"
   ]
  },
  {
   "cell_type": "code",
   "execution_count": 18,
   "id": "fcfda22e",
   "metadata": {},
   "outputs": [
    {
     "data": {
      "text/plain": [
       "'thon'"
      ]
     },
     "execution_count": 18,
     "metadata": {},
     "output_type": "execute_result"
    }
   ],
   "source": [
    "a='python'\n",
    "a[2:6:]"
   ]
  },
  {
   "cell_type": "code",
   "execution_count": null,
   "id": "ad03b6c1",
   "metadata": {},
   "outputs": [],
   "source": [
    "a='Hello Everyone at Grras Solution '\n",
    "\n",
    "'Solut E at Everyone'"
   ]
  },
  {
   "cell_type": "code",
   "execution_count": 20,
   "id": "b3a7f1a3",
   "metadata": {},
   "outputs": [
    {
     "data": {
      "text/plain": [
       "'at Grras Hello'"
      ]
     },
     "execution_count": 20,
     "metadata": {},
     "output_type": "execute_result"
    }
   ],
   "source": [
    "a='Hello Everyone at Grras Solution '\n",
    "a[15:17:]+' '+a[18:23:]+' '+a[0:5]"
   ]
  },
  {
   "cell_type": "code",
   "execution_count": 21,
   "id": "46c154c1",
   "metadata": {},
   "outputs": [
    {
     "data": {
      "text/plain": [
       "'Solut E at Everyone'"
      ]
     },
     "execution_count": 21,
     "metadata": {},
     "output_type": "execute_result"
    }
   ],
   "source": [
    "a[24:29]+' '+a[6]+' '+a[15:17]+' '+a[6:14]"
   ]
  },
  {
   "cell_type": "code",
   "execution_count": 27,
   "id": "6fa69db2",
   "metadata": {},
   "outputs": [
    {
     "data": {
      "text/plain": [
       "'Ph'"
      ]
     },
     "execution_count": 27,
     "metadata": {},
     "output_type": "execute_result"
    }
   ],
   "source": [
    "a='Python'\n",
    "a[0:6:3]"
   ]
  },
  {
   "cell_type": "code",
   "execution_count": 28,
   "id": "1a892bec",
   "metadata": {},
   "outputs": [
    {
     "data": {
      "text/plain": [
       "'Python'"
      ]
     },
     "execution_count": 28,
     "metadata": {},
     "output_type": "execute_result"
    }
   ],
   "source": [
    "a[::]"
   ]
  },
  {
   "cell_type": "code",
   "execution_count": null,
   "id": "87c233e4",
   "metadata": {},
   "outputs": [],
   "source": [
    "a='Good Morning Everyone we are Learning Strings'\n",
    "\n",
    "'Gd Eeyn are Sg Morning'"
   ]
  },
  {
   "cell_type": "code",
   "execution_count": 35,
   "id": "b12af074",
   "metadata": {},
   "outputs": [
    {
     "data": {
      "text/plain": [
       "'Gd Eeyn are Sg Morning'"
      ]
     },
     "execution_count": 35,
     "metadata": {},
     "output_type": "execute_result"
    }
   ],
   "source": [
    "a='Good Morning Everyone we are Learning Strings'\n",
    "a[0:4:3]+' '+a[13:21:2]+' '+a[25:28]+' '+a[38::5]+' '+a[5:12]"
   ]
  },
  {
   "cell_type": "code",
   "execution_count": 38,
   "id": "8a297957",
   "metadata": {},
   "outputs": [],
   "source": [
    "a='Python'"
   ]
  },
  {
   "cell_type": "code",
   "execution_count": 40,
   "id": "05d61275",
   "metadata": {},
   "outputs": [
    {
     "data": {
      "text/plain": [
       "'noh'"
      ]
     },
     "execution_count": 40,
     "metadata": {},
     "output_type": "execute_result"
    }
   ],
   "source": [
    "a[5:2:-1]"
   ]
  },
  {
   "cell_type": "code",
   "execution_count": 46,
   "id": "578cd930",
   "metadata": {},
   "outputs": [
    {
     "data": {
      "text/plain": [
       "''"
      ]
     },
     "execution_count": 46,
     "metadata": {},
     "output_type": "execute_result"
    }
   ],
   "source": [
    "a[-4:0:]"
   ]
  },
  {
   "cell_type": "code",
   "execution_count": 50,
   "id": "ec61f5a6",
   "metadata": {},
   "outputs": [
    {
     "data": {
      "text/plain": [
       "'thon'"
      ]
     },
     "execution_count": 50,
     "metadata": {},
     "output_type": "execute_result"
    }
   ],
   "source": [
    "a='Python'\n",
    "a[-4::1]"
   ]
  },
  {
   "cell_type": "code",
   "execution_count": null,
   "id": "286cd950",
   "metadata": {},
   "outputs": [],
   "source": []
  },
  {
   "cell_type": "code",
   "execution_count": null,
   "id": "54be8ed9",
   "metadata": {},
   "outputs": [],
   "source": [
    "a[start : Stop : Step]"
   ]
  },
  {
   "cell_type": "code",
   "execution_count": 1,
   "id": "68263731",
   "metadata": {},
   "outputs": [],
   "source": [
    "a='Python also support web and app development'\n",
    "\n",
    "#'also bew ppa ment'"
   ]
  },
  {
   "cell_type": "code",
   "execution_count": 3,
   "id": "44ba571e",
   "metadata": {},
   "outputs": [
    {
     "data": {
      "text/plain": [
       "'also bew'"
      ]
     },
     "execution_count": 3,
     "metadata": {},
     "output_type": "execute_result"
    }
   ],
   "source": [
    "a[7:11]+' '+'' +a[22:19:-1]"
   ]
  },
  {
   "cell_type": "code",
   "execution_count": 4,
   "id": "d42e6575",
   "metadata": {},
   "outputs": [
    {
     "data": {
      "text/plain": [
       "43"
      ]
     },
     "execution_count": 4,
     "metadata": {},
     "output_type": "execute_result"
    }
   ],
   "source": [
    "len(a)"
   ]
  },
  {
   "cell_type": "code",
   "execution_count": null,
   "id": "3f2ad077",
   "metadata": {},
   "outputs": [],
   "source": []
  },
  {
   "cell_type": "code",
   "execution_count": 8,
   "id": "caf3749c",
   "metadata": {},
   "outputs": [
    {
     "data": {
      "text/plain": [
       "'td'"
      ]
     },
     "execution_count": 8,
     "metadata": {},
     "output_type": "execute_result"
    }
   ],
   "source": [
    "a[:-15:-10]"
   ]
  },
  {
   "cell_type": "code",
   "execution_count": 9,
   "id": "688391c6",
   "metadata": {},
   "outputs": [
    {
     "data": {
      "text/plain": [
       "'e b ed ppa dna bew troppus osla nohtyP tod brsat td'"
      ]
     },
     "execution_count": 9,
     "metadata": {},
     "output_type": "execute_result"
    }
   ],
   "source": [
    "a='Python also support web and app development'\n",
    "a[40:20:-9]+' '+a[-10::-1]+' '+a[::-5]+' '+a[:-15:-10]"
   ]
  },
  {
   "cell_type": "code",
   "execution_count": 10,
   "id": "b6967f2e",
   "metadata": {},
   "outputs": [
    {
     "data": {
      "text/plain": [
       "'tnempoleved ppa dna bew troppus osla nohtyP'"
      ]
     },
     "execution_count": 10,
     "metadata": {},
     "output_type": "execute_result"
    }
   ],
   "source": [
    "a[::-1]"
   ]
  },
  {
   "cell_type": "code",
   "execution_count": 11,
   "id": "2612d38d",
   "metadata": {},
   "outputs": [
    {
     "data": {
      "text/plain": [
       "''"
      ]
     },
     "execution_count": 11,
     "metadata": {},
     "output_type": "execute_result"
    }
   ],
   "source": [
    "a='Python'\n",
    "a[5:2:1]"
   ]
  },
  {
   "cell_type": "code",
   "execution_count": 12,
   "id": "491300c0",
   "metadata": {},
   "outputs": [
    {
     "data": {
      "text/plain": [
       "'noh'"
      ]
     },
     "execution_count": 12,
     "metadata": {},
     "output_type": "execute_result"
    }
   ],
   "source": [
    "a[5:2:-1]"
   ]
  },
  {
   "cell_type": "code",
   "execution_count": 13,
   "id": "8629660b",
   "metadata": {},
   "outputs": [
    {
     "data": {
      "text/plain": [
       "'nt'"
      ]
     },
     "execution_count": 13,
     "metadata": {},
     "output_type": "execute_result"
    }
   ],
   "source": [
    "a=\"Python\"\n",
    "a[::-3]"
   ]
  },
  {
   "cell_type": "code",
   "execution_count": 14,
   "id": "cb4c5321",
   "metadata": {},
   "outputs": [],
   "source": [
    "a='''If you're looking for random paragraphs, you've come to the right place. \n",
    "When a random word or a random sentence isn't quite enough, the next logical step i\n",
    "s to find a random paragraph. We created the Random Paragraph Generator with you in\n",
    "mind. The process is quite simple. Choose the number of random paragraphs you'd like \n",
    "to see and click the button. Your chosen number of paragraphs will instantly appear.\n",
    "\n",
    "While it may not be obvious to everyone, there are a number of reasons creating random\n",
    "paragraphs can be useful. A few examples of how some people use this generator are listed in the following paragraphs.\n",
    "'''"
   ]
  },
  {
   "cell_type": "code",
   "execution_count": null,
   "id": "45216019",
   "metadata": {},
   "outputs": [],
   "source": []
  },
  {
   "cell_type": "code",
   "execution_count": 16,
   "id": "892b648f",
   "metadata": {},
   "outputs": [
    {
     "name": "stdout",
     "output_type": "stream",
     "text": [
      "['__add__', '__class__', '__contains__', '__delattr__', '__dir__', '__doc__', '__eq__', '__format__', '__ge__', '__getattribute__', '__getitem__', '__getnewargs__', '__getstate__', '__gt__', '__hash__', '__init__', '__init_subclass__', '__iter__', '__le__', '__len__', '__lt__', '__mod__', '__mul__', '__ne__', '__new__', '__reduce__', '__reduce_ex__', '__repr__', '__rmod__', '__rmul__', '__setattr__', '__sizeof__', '__str__', '__subclasshook__', 'capitalize', 'casefold', 'center', 'count', 'encode', 'endswith', 'expandtabs', 'find', 'format', 'format_map', 'index', 'isalnum', 'isalpha', 'isascii', 'isdecimal', 'isdigit', 'isidentifier', 'islower', 'isnumeric', 'isprintable', 'isspace', 'istitle', 'isupper', 'join', 'ljust', 'lower', 'lstrip', 'maketrans', 'partition', 'removeprefix', 'removesuffix', 'replace', 'rfind', 'rindex', 'rjust', 'rpartition', 'rsplit', 'rstrip', 'split', 'splitlines', 'startswith', 'strip', 'swapcase', 'title', 'translate', 'upper', 'zfill']\n"
     ]
    }
   ],
   "source": [
    "print(dir(str))"
   ]
  },
  {
   "cell_type": "code",
   "execution_count": 1,
   "id": "8f1fa2e4",
   "metadata": {},
   "outputs": [],
   "source": [
    "a='PyThOn Programming'"
   ]
  },
  {
   "cell_type": "code",
   "execution_count": 22,
   "id": "27df00a2",
   "metadata": {},
   "outputs": [
    {
     "data": {
      "text/plain": [
       "'Python programming'"
      ]
     },
     "execution_count": 22,
     "metadata": {},
     "output_type": "execute_result"
    }
   ],
   "source": [
    "a.capitalize()"
   ]
  },
  {
   "cell_type": "code",
   "execution_count": 23,
   "id": "2c70f871",
   "metadata": {},
   "outputs": [
    {
     "data": {
      "text/plain": [
       "'python programming'"
      ]
     },
     "execution_count": 23,
     "metadata": {},
     "output_type": "execute_result"
    }
   ],
   "source": [
    "a.casefold()"
   ]
  },
  {
   "cell_type": "code",
   "execution_count": 24,
   "id": "ef85f254",
   "metadata": {},
   "outputs": [
    {
     "data": {
      "text/plain": [
       "'pYtHoN pROGRAMMING'"
      ]
     },
     "execution_count": 24,
     "metadata": {},
     "output_type": "execute_result"
    }
   ],
   "source": [
    "a.swapcase()"
   ]
  },
  {
   "cell_type": "code",
   "execution_count": 2,
   "id": "1b35c027",
   "metadata": {},
   "outputs": [
    {
     "data": {
      "text/plain": [
       "'PYTHON PROGRAMMING'"
      ]
     },
     "execution_count": 2,
     "metadata": {},
     "output_type": "execute_result"
    }
   ],
   "source": [
    "a.upper()"
   ]
  },
  {
   "cell_type": "code",
   "execution_count": 3,
   "id": "c48a7cc1",
   "metadata": {},
   "outputs": [
    {
     "data": {
      "text/plain": [
       "'python programming'"
      ]
     },
     "execution_count": 3,
     "metadata": {},
     "output_type": "execute_result"
    }
   ],
   "source": [
    "a.lower()"
   ]
  },
  {
   "cell_type": "code",
   "execution_count": 4,
   "id": "05a32723",
   "metadata": {},
   "outputs": [],
   "source": [
    "a='     Sachin   '"
   ]
  },
  {
   "cell_type": "code",
   "execution_count": 5,
   "id": "a1a69518",
   "metadata": {},
   "outputs": [
    {
     "data": {
      "text/plain": [
       "'Sachin'"
      ]
     },
     "execution_count": 5,
     "metadata": {},
     "output_type": "execute_result"
    }
   ],
   "source": [
    "a.strip()"
   ]
  },
  {
   "cell_type": "code",
   "execution_count": 6,
   "id": "2b5fac61",
   "metadata": {},
   "outputs": [
    {
     "data": {
      "text/plain": [
       "'Sachin   '"
      ]
     },
     "execution_count": 6,
     "metadata": {},
     "output_type": "execute_result"
    }
   ],
   "source": [
    "a.lstrip()"
   ]
  },
  {
   "cell_type": "code",
   "execution_count": 7,
   "id": "7fe914bd",
   "metadata": {},
   "outputs": [
    {
     "data": {
      "text/plain": [
       "'     Sachin'"
      ]
     },
     "execution_count": 7,
     "metadata": {},
     "output_type": "execute_result"
    }
   ],
   "source": [
    "a.rstrip()"
   ]
  },
  {
   "cell_type": "code",
   "execution_count": 8,
   "id": "d14ef470",
   "metadata": {},
   "outputs": [
    {
     "data": {
      "text/plain": [
       "5"
      ]
     },
     "execution_count": 8,
     "metadata": {},
     "output_type": "execute_result"
    }
   ],
   "source": [
    "a.find('S')"
   ]
  },
  {
   "cell_type": "code",
   "execution_count": 9,
   "id": "b2510079",
   "metadata": {},
   "outputs": [
    {
     "data": {
      "text/plain": [
       "-1"
      ]
     },
     "execution_count": 9,
     "metadata": {},
     "output_type": "execute_result"
    }
   ],
   "source": [
    "a.find('z')"
   ]
  },
  {
   "cell_type": "code",
   "execution_count": 10,
   "id": "40286567",
   "metadata": {},
   "outputs": [
    {
     "data": {
      "text/plain": [
       "5"
      ]
     },
     "execution_count": 10,
     "metadata": {},
     "output_type": "execute_result"
    }
   ],
   "source": [
    "a.index('S')"
   ]
  },
  {
   "cell_type": "code",
   "execution_count": 11,
   "id": "21d81ce7",
   "metadata": {},
   "outputs": [
    {
     "ename": "ValueError",
     "evalue": "substring not found",
     "output_type": "error",
     "traceback": [
      "\u001b[1;31m---------------------------------------------------------------------------\u001b[0m",
      "\u001b[1;31mValueError\u001b[0m                                Traceback (most recent call last)",
      "Cell \u001b[1;32mIn[11], line 1\u001b[0m\n\u001b[1;32m----> 1\u001b[0m a\u001b[38;5;241m.\u001b[39mindex(\u001b[38;5;124m'\u001b[39m\u001b[38;5;124mz\u001b[39m\u001b[38;5;124m'\u001b[39m)\n",
      "\u001b[1;31mValueError\u001b[0m: substring not found"
     ]
    }
   ],
   "source": [
    "a.index('z')"
   ]
  },
  {
   "cell_type": "code",
   "execution_count": 12,
   "id": "d66dcd46",
   "metadata": {},
   "outputs": [],
   "source": [
    "a='     Sachin    '"
   ]
  },
  {
   "cell_type": "code",
   "execution_count": 15,
   "id": "5155ca18",
   "metadata": {},
   "outputs": [
    {
     "data": {
      "text/plain": [
       "'Sachin'"
      ]
     },
     "execution_count": 15,
     "metadata": {},
     "output_type": "execute_result"
    }
   ],
   "source": [
    "a[a.find('Sachin'):a.find('Sachin')+len('Sachin'):]"
   ]
  },
  {
   "cell_type": "code",
   "execution_count": 14,
   "id": "a0b8fc8d",
   "metadata": {},
   "outputs": [
    {
     "data": {
      "text/plain": [
       "6"
      ]
     },
     "execution_count": 14,
     "metadata": {},
     "output_type": "execute_result"
    }
   ],
   "source": [
    "len('Sachin')"
   ]
  },
  {
   "cell_type": "code",
   "execution_count": null,
   "id": "c4d62eed",
   "metadata": {},
   "outputs": [],
   "source": [
    "a='   Hello Everyone  Welcome to Python Programming '\n",
    "'Hello nohtyp  ot Welcome'"
   ]
  },
  {
   "cell_type": "code",
   "execution_count": 16,
   "id": "7ee3b102",
   "metadata": {},
   "outputs": [
    {
     "data": {
      "text/plain": [
       "'Hello'"
      ]
     },
     "execution_count": 16,
     "metadata": {},
     "output_type": "execute_result"
    }
   ],
   "source": [
    "a='   Hello Everyone  Welcome to Python Programming '\n",
    "a[a.find('Hello'):a.find('Hello')+len('Hello'):]+ \n",
    "a[a.find('Python')+len('Python'):a.find('to')-1:-1]"
   ]
  },
  {
   "cell_type": "code",
   "execution_count": 17,
   "id": "92fde6e8",
   "metadata": {},
   "outputs": [
    {
     "data": {
      "text/plain": [
       "' nohtyP ot'"
      ]
     },
     "execution_count": 17,
     "metadata": {},
     "output_type": "execute_result"
    }
   ],
   "source": [
    "a[a.find('Python')+len('Python'):a.find('to')-1:-1]"
   ]
  },
  {
   "cell_type": "code",
   "execution_count": null,
   "id": "add37a9c",
   "metadata": {},
   "outputs": [],
   "source": []
  },
  {
   "cell_type": "code",
   "execution_count": 18,
   "id": "2d08817f",
   "metadata": {},
   "outputs": [],
   "source": [
    "a='Hello Programmers'"
   ]
  },
  {
   "cell_type": "code",
   "execution_count": 21,
   "id": "defe112f",
   "metadata": {},
   "outputs": [
    {
     "data": {
      "text/plain": [
       "True"
      ]
     },
     "execution_count": 21,
     "metadata": {},
     "output_type": "execute_result"
    }
   ],
   "source": [
    "a.startswith('Hello')"
   ]
  },
  {
   "cell_type": "code",
   "execution_count": 23,
   "id": "1bddb826",
   "metadata": {},
   "outputs": [
    {
     "data": {
      "text/plain": [
       "False"
      ]
     },
     "execution_count": 23,
     "metadata": {},
     "output_type": "execute_result"
    }
   ],
   "source": [
    "a.endswith('mmes')"
   ]
  },
  {
   "cell_type": "code",
   "execution_count": 25,
   "id": "a2379fe1",
   "metadata": {},
   "outputs": [
    {
     "data": {
      "text/plain": [
       "'                Hello Programmers                 '"
      ]
     },
     "execution_count": 25,
     "metadata": {},
     "output_type": "execute_result"
    }
   ],
   "source": [
    "a.center(50)"
   ]
  },
  {
   "cell_type": "code",
   "execution_count": 26,
   "id": "3e053472",
   "metadata": {},
   "outputs": [
    {
     "data": {
      "text/plain": [
       "'Hello Programmers                                 '"
      ]
     },
     "execution_count": 26,
     "metadata": {},
     "output_type": "execute_result"
    }
   ],
   "source": [
    "a.ljust(50)"
   ]
  },
  {
   "cell_type": "code",
   "execution_count": 28,
   "id": "9f5c9916",
   "metadata": {},
   "outputs": [
    {
     "data": {
      "text/plain": [
       "'                                 Hello Programmers'"
      ]
     },
     "execution_count": 28,
     "metadata": {},
     "output_type": "execute_result"
    }
   ],
   "source": [
    "a.rjust(50)"
   ]
  },
  {
   "cell_type": "code",
   "execution_count": 29,
   "id": "65a8f7f1",
   "metadata": {},
   "outputs": [
    {
     "data": {
      "text/plain": [
       "False"
      ]
     },
     "execution_count": 29,
     "metadata": {},
     "output_type": "execute_result"
    }
   ],
   "source": [
    "a.isalnum()"
   ]
  },
  {
   "cell_type": "code",
   "execution_count": 38,
   "id": "ecf1fead",
   "metadata": {},
   "outputs": [
    {
     "data": {
      "text/plain": [
       "False"
      ]
     },
     "execution_count": 38,
     "metadata": {},
     "output_type": "execute_result"
    }
   ],
   "source": [
    "a='50.2'\n",
    "a.isdecimal()"
   ]
  },
  {
   "cell_type": "code",
   "execution_count": 1,
   "id": "9c4e3423",
   "metadata": {},
   "outputs": [
    {
     "ename": "SyntaxError",
     "evalue": "invalid syntax (1702076050.py, line 1)",
     "output_type": "error",
     "traceback": [
      "\u001b[1;36m  Cell \u001b[1;32mIn[1], line 1\u001b[1;36m\u001b[0m\n\u001b[1;33m    3+\u001b[0m\n\u001b[1;37m      ^\u001b[0m\n\u001b[1;31mSyntaxError\u001b[0m\u001b[1;31m:\u001b[0m invalid syntax\n"
     ]
    }
   ],
   "source": [
    "3+\n",
    "2"
   ]
  },
  {
   "cell_type": "code",
   "execution_count": null,
   "id": "37f744f2",
   "metadata": {},
   "outputs": [],
   "source": []
  },
  {
   "cell_type": "code",
   "execution_count": 5,
   "id": "d5cd83e8",
   "metadata": {},
   "outputs": [
    {
     "data": {
      "text/plain": [
       "'learn python'"
      ]
     },
     "execution_count": 5,
     "metadata": {},
     "output_type": "execute_result"
    }
   ],
   "source": [
    "s='i am learning python'\n",
    "s[5:10]+' '+s[14:21]"
   ]
  },
  {
   "cell_type": "code",
   "execution_count": 7,
   "id": "44a6d805",
   "metadata": {},
   "outputs": [
    {
     "data": {
      "text/plain": [
       "'learn'"
      ]
     },
     "execution_count": 7,
     "metadata": {},
     "output_type": "execute_result"
    }
   ],
   "source": [
    "s[s.find('learn'):s.find('learning')+5]"
   ]
  },
  {
   "cell_type": "code",
   "execution_count": null,
   "id": "fed3ab9b",
   "metadata": {},
   "outputs": [],
   "source": []
  }
 ],
 "metadata": {
  "kernelspec": {
   "display_name": "Python 3 (ipykernel)",
   "language": "python",
   "name": "python3"
  },
  "language_info": {
   "codemirror_mode": {
    "name": "ipython",
    "version": 3
   },
   "file_extension": ".py",
   "mimetype": "text/x-python",
   "name": "python",
   "nbconvert_exporter": "python",
   "pygments_lexer": "ipython3",
   "version": "3.11.5"
  }
 },
 "nbformat": 4,
 "nbformat_minor": 5
}
