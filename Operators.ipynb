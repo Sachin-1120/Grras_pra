{
 "cells": [
  {
   "cell_type": "code",
   "execution_count": 1,
   "id": "2c6543fb",
   "metadata": {},
   "outputs": [
    {
     "data": {
      "text/plain": [
       "8"
      ]
     },
     "execution_count": 1,
     "metadata": {},
     "output_type": "execute_result"
    }
   ],
   "source": [
    "5+3\n"
   ]
  },
  {
   "cell_type": "code",
   "execution_count": 2,
   "id": "d738ef4c",
   "metadata": {},
   "outputs": [
    {
     "data": {
      "text/plain": [
       "2"
      ]
     },
     "execution_count": 2,
     "metadata": {},
     "output_type": "execute_result"
    }
   ],
   "source": [
    "5-3"
   ]
  },
  {
   "cell_type": "code",
   "execution_count": 3,
   "id": "90fdaf8f",
   "metadata": {
    "scrolled": true
   },
   "outputs": [
    {
     "data": {
      "text/plain": [
       "1.6666666666666667"
      ]
     },
     "execution_count": 3,
     "metadata": {},
     "output_type": "execute_result"
    }
   ],
   "source": [
    "5/3"
   ]
  },
  {
   "cell_type": "code",
   "execution_count": 4,
   "id": "a5ef2552",
   "metadata": {},
   "outputs": [
    {
     "data": {
      "text/plain": [
       "1"
      ]
     },
     "execution_count": 4,
     "metadata": {},
     "output_type": "execute_result"
    }
   ],
   "source": [
    "5//3"
   ]
  },
  {
   "cell_type": "code",
   "execution_count": 5,
   "id": "ead964a6",
   "metadata": {},
   "outputs": [
    {
     "data": {
      "text/plain": [
       "2"
      ]
     },
     "execution_count": 5,
     "metadata": {},
     "output_type": "execute_result"
    }
   ],
   "source": [
    "5%3"
   ]
  },
  {
   "cell_type": "code",
   "execution_count": 6,
   "id": "73af0d1e",
   "metadata": {},
   "outputs": [
    {
     "data": {
      "text/plain": [
       "125"
      ]
     },
     "execution_count": 6,
     "metadata": {},
     "output_type": "execute_result"
    }
   ],
   "source": [
    "5**3"
   ]
  },
  {
   "cell_type": "code",
   "execution_count": 7,
   "id": "2b146f54",
   "metadata": {},
   "outputs": [],
   "source": [
    "a=5"
   ]
  },
  {
   "cell_type": "code",
   "execution_count": 8,
   "id": "09f3df2f",
   "metadata": {},
   "outputs": [
    {
     "data": {
      "text/plain": [
       "5"
      ]
     },
     "execution_count": 8,
     "metadata": {},
     "output_type": "execute_result"
    }
   ],
   "source": [
    "a"
   ]
  },
  {
   "cell_type": "code",
   "execution_count": 9,
   "id": "03369887",
   "metadata": {},
   "outputs": [
    {
     "data": {
      "text/plain": [
       "5"
      ]
     },
     "execution_count": 9,
     "metadata": {},
     "output_type": "execute_result"
    }
   ],
   "source": [
    "a=0\n",
    "a+=5#a=a+5\n",
    "a"
   ]
  },
  {
   "cell_type": "code",
   "execution_count": 10,
   "id": "12388da9",
   "metadata": {},
   "outputs": [],
   "source": [
    "a-=5#a=a-5"
   ]
  },
  {
   "cell_type": "code",
   "execution_count": 11,
   "id": "3e79fcaf",
   "metadata": {},
   "outputs": [
    {
     "data": {
      "text/plain": [
       "0"
      ]
     },
     "execution_count": 11,
     "metadata": {},
     "output_type": "execute_result"
    }
   ],
   "source": [
    "a"
   ]
  },
  {
   "cell_type": "code",
   "execution_count": 12,
   "id": "edeae6e6",
   "metadata": {},
   "outputs": [],
   "source": [
    "a*=5"
   ]
  },
  {
   "cell_type": "code",
   "execution_count": 13,
   "id": "c2e920b0",
   "metadata": {},
   "outputs": [
    {
     "data": {
      "text/plain": [
       "0"
      ]
     },
     "execution_count": 13,
     "metadata": {},
     "output_type": "execute_result"
    }
   ],
   "source": [
    "a"
   ]
  },
  {
   "cell_type": "code",
   "execution_count": 16,
   "id": "722b10bf",
   "metadata": {},
   "outputs": [],
   "source": [
    "a//=5"
   ]
  },
  {
   "cell_type": "code",
   "execution_count": 17,
   "id": "e5dfe53a",
   "metadata": {},
   "outputs": [
    {
     "data": {
      "text/plain": [
       "0.0"
      ]
     },
     "execution_count": 17,
     "metadata": {},
     "output_type": "execute_result"
    }
   ],
   "source": [
    "a"
   ]
  },
  {
   "cell_type": "code",
   "execution_count": 19,
   "id": "f5e7bc3f",
   "metadata": {},
   "outputs": [
    {
     "name": "stdout",
     "output_type": "stream",
     "text": [
      "500015\n"
     ]
    }
   ],
   "source": [
    "a=10\n",
    "a+=(a//2)*a**5\n",
    "print(a+5)"
   ]
  },
  {
   "cell_type": "code",
   "execution_count": 20,
   "id": "44626b82",
   "metadata": {},
   "outputs": [
    {
     "data": {
      "text/plain": [
       "1"
      ]
     },
     "execution_count": 20,
     "metadata": {},
     "output_type": "execute_result"
    }
   ],
   "source": [
    "a=15\n",
    "a%=7#a=a%7\n",
    "a"
   ]
  },
  {
   "cell_type": "code",
   "execution_count": null,
   "id": "214d67b1",
   "metadata": {},
   "outputs": [],
   "source": []
  },
  {
   "cell_type": "code",
   "execution_count": 22,
   "id": "8d19f9da",
   "metadata": {},
   "outputs": [
    {
     "data": {
      "text/plain": [
       "True"
      ]
     },
     "execution_count": 22,
     "metadata": {},
     "output_type": "execute_result"
    }
   ],
   "source": [
    "'Sachin'=='Sachin'"
   ]
  },
  {
   "cell_type": "code",
   "execution_count": 23,
   "id": "48c8780b",
   "metadata": {},
   "outputs": [
    {
     "data": {
      "text/plain": [
       "False"
      ]
     },
     "execution_count": 23,
     "metadata": {},
     "output_type": "execute_result"
    }
   ],
   "source": [
    "''==' '"
   ]
  },
  {
   "cell_type": "code",
   "execution_count": 24,
   "id": "65ea36b0",
   "metadata": {},
   "outputs": [
    {
     "data": {
      "text/plain": [
       "False"
      ]
     },
     "execution_count": 24,
     "metadata": {},
     "output_type": "execute_result"
    }
   ],
   "source": [
    "''==False"
   ]
  },
  {
   "cell_type": "code",
   "execution_count": 27,
   "id": "ada3a803",
   "metadata": {},
   "outputs": [
    {
     "data": {
      "text/plain": [
       "True"
      ]
     },
     "execution_count": 27,
     "metadata": {},
     "output_type": "execute_result"
    }
   ],
   "source": [
    "5==5"
   ]
  },
  {
   "cell_type": "code",
   "execution_count": 28,
   "id": "2c19b00d",
   "metadata": {},
   "outputs": [
    {
     "data": {
      "text/plain": [
       "False"
      ]
     },
     "execution_count": 28,
     "metadata": {},
     "output_type": "execute_result"
    }
   ],
   "source": [
    "5=='5'"
   ]
  },
  {
   "cell_type": "code",
   "execution_count": 29,
   "id": "93ce15ae",
   "metadata": {},
   "outputs": [
    {
     "data": {
      "text/plain": [
       "True"
      ]
     },
     "execution_count": 29,
     "metadata": {},
     "output_type": "execute_result"
    }
   ],
   "source": [
    "5!=3"
   ]
  },
  {
   "cell_type": "code",
   "execution_count": 30,
   "id": "74ab119c",
   "metadata": {},
   "outputs": [
    {
     "data": {
      "text/plain": [
       "True"
      ]
     },
     "execution_count": 30,
     "metadata": {},
     "output_type": "execute_result"
    }
   ],
   "source": [
    "5>3"
   ]
  },
  {
   "cell_type": "code",
   "execution_count": 31,
   "id": "867e4848",
   "metadata": {},
   "outputs": [
    {
     "data": {
      "text/plain": [
       "False"
      ]
     },
     "execution_count": 31,
     "metadata": {},
     "output_type": "execute_result"
    }
   ],
   "source": [
    "5>15"
   ]
  },
  {
   "cell_type": "code",
   "execution_count": 32,
   "id": "23825ea4",
   "metadata": {},
   "outputs": [
    {
     "data": {
      "text/plain": [
       "False"
      ]
     },
     "execution_count": 32,
     "metadata": {},
     "output_type": "execute_result"
    }
   ],
   "source": [
    "5>5"
   ]
  },
  {
   "cell_type": "code",
   "execution_count": 33,
   "id": "145fad23",
   "metadata": {},
   "outputs": [
    {
     "data": {
      "text/plain": [
       "True"
      ]
     },
     "execution_count": 33,
     "metadata": {},
     "output_type": "execute_result"
    }
   ],
   "source": [
    "5>=5"
   ]
  },
  {
   "cell_type": "code",
   "execution_count": 34,
   "id": "9f0e11cf",
   "metadata": {},
   "outputs": [
    {
     "name": "stdout",
     "output_type": "stream",
     "text": [
      "True\n",
      "97\n"
     ]
    }
   ],
   "source": [
    "a=(1000//5%15)**1+(50-sum([10,9,8]))*'7878012779'.count('7')\n",
    "print(a!=500)\n",
    "print(a)"
   ]
  },
  {
   "cell_type": "code",
   "execution_count": 35,
   "id": "4764eaf2",
   "metadata": {},
   "outputs": [
    {
     "data": {
      "text/plain": [
       "True"
      ]
     },
     "execution_count": 35,
     "metadata": {},
     "output_type": "execute_result"
    }
   ],
   "source": [
    "5>3 and 10<15"
   ]
  },
  {
   "cell_type": "code",
   "execution_count": 36,
   "id": "5d7ae3c9",
   "metadata": {},
   "outputs": [
    {
     "data": {
      "text/plain": [
       "2"
      ]
     },
     "execution_count": 36,
     "metadata": {},
     "output_type": "execute_result"
    }
   ],
   "source": [
    "5+3 and 5-3"
   ]
  },
  {
   "cell_type": "code",
   "execution_count": 38,
   "id": "8ee7abd1",
   "metadata": {},
   "outputs": [
    {
     "data": {
      "text/plain": [
       "5"
      ]
     },
     "execution_count": 38,
     "metadata": {},
     "output_type": "execute_result"
    }
   ],
   "source": [
    "' ' and 5"
   ]
  },
  {
   "cell_type": "code",
   "execution_count": 40,
   "id": "a7a8c39f",
   "metadata": {},
   "outputs": [
    {
     "data": {
      "text/plain": [
       "'Sa'"
      ]
     },
     "execution_count": 40,
     "metadata": {},
     "output_type": "execute_result"
    }
   ],
   "source": [
    "'Sachin' and [None] and 'Sa'"
   ]
  },
  {
   "cell_type": "code",
   "execution_count": 41,
   "id": "1f8f716d",
   "metadata": {},
   "outputs": [
    {
     "data": {
      "text/plain": [
       "5"
      ]
     },
     "execution_count": 41,
     "metadata": {},
     "output_type": "execute_result"
    }
   ],
   "source": [
    "5 or 3"
   ]
  },
  {
   "cell_type": "code",
   "execution_count": 46,
   "id": "0a35aef5",
   "metadata": {},
   "outputs": [
    {
     "data": {
      "text/plain": [
       "10"
      ]
     },
     "execution_count": 46,
     "metadata": {},
     "output_type": "execute_result"
    }
   ],
   "source": [
    "('  Sac '.lstrip()=='   sac'.lstrip().capitalize()) or 10 "
   ]
  },
  {
   "cell_type": "code",
   "execution_count": 43,
   "id": "18740952",
   "metadata": {},
   "outputs": [],
   "source": [
    "s='sa'\n"
   ]
  },
  {
   "cell_type": "code",
   "execution_count": 47,
   "id": "1fd37887",
   "metadata": {},
   "outputs": [
    {
     "data": {
      "text/plain": [
       "False"
      ]
     },
     "execution_count": 47,
     "metadata": {},
     "output_type": "execute_result"
    }
   ],
   "source": [
    "not 'Alpha'"
   ]
  },
  {
   "cell_type": "code",
   "execution_count": 49,
   "id": "3d57678b",
   "metadata": {},
   "outputs": [
    {
     "data": {
      "text/plain": [
       "False"
      ]
     },
     "execution_count": 49,
     "metadata": {},
     "output_type": "execute_result"
    }
   ],
   "source": [
    "str(not ('Sachin sharma'.istitle() or 5**3 and 'Sac'.count(''))) > 'Sa'"
   ]
  },
  {
   "cell_type": "code",
   "execution_count": 1,
   "id": "4926079a",
   "metadata": {},
   "outputs": [
    {
     "data": {
      "text/plain": [
       "False"
      ]
     },
     "execution_count": 1,
     "metadata": {},
     "output_type": "execute_result"
    }
   ],
   "source": [
    "not ('Sachin sharma'.istitle() or 5**3 and 'Sac'.count(''))"
   ]
  },
  {
   "cell_type": "code",
   "execution_count": null,
   "id": "1403628c",
   "metadata": {},
   "outputs": [],
   "source": []
  },
  {
   "cell_type": "code",
   "execution_count": 2,
   "id": "be229686",
   "metadata": {},
   "outputs": [],
   "source": [
    "#Identity Operator\n"
   ]
  },
  {
   "cell_type": "code",
   "execution_count": 8,
   "id": "20cd4cdb",
   "metadata": {},
   "outputs": [],
   "source": [
    "a=['Apple','Banana']\n",
    "b=['Apple','Banana']\n",
    "c=a"
   ]
  },
  {
   "cell_type": "code",
   "execution_count": 4,
   "id": "6dd97b1b",
   "metadata": {},
   "outputs": [
    {
     "data": {
      "text/plain": [
       "True"
      ]
     },
     "execution_count": 4,
     "metadata": {},
     "output_type": "execute_result"
    }
   ],
   "source": [
    "a==b"
   ]
  },
  {
   "cell_type": "code",
   "execution_count": 5,
   "id": "e6e2dadf",
   "metadata": {},
   "outputs": [
    {
     "data": {
      "text/plain": [
       "1352775551680"
      ]
     },
     "execution_count": 5,
     "metadata": {},
     "output_type": "execute_result"
    }
   ],
   "source": [
    "id(a)"
   ]
  },
  {
   "cell_type": "code",
   "execution_count": 6,
   "id": "f80ead1e",
   "metadata": {},
   "outputs": [
    {
     "data": {
      "text/plain": [
       "False"
      ]
     },
     "execution_count": 6,
     "metadata": {},
     "output_type": "execute_result"
    }
   ],
   "source": [
    "a is b"
   ]
  },
  {
   "cell_type": "code",
   "execution_count": 7,
   "id": "98eb3799",
   "metadata": {},
   "outputs": [
    {
     "data": {
      "text/plain": [
       "1352775606144"
      ]
     },
     "execution_count": 7,
     "metadata": {},
     "output_type": "execute_result"
    }
   ],
   "source": [
    "id(b)"
   ]
  },
  {
   "cell_type": "code",
   "execution_count": 9,
   "id": "8f7d8ec0",
   "metadata": {},
   "outputs": [
    {
     "data": {
      "text/plain": [
       "True"
      ]
     },
     "execution_count": 9,
     "metadata": {},
     "output_type": "execute_result"
    }
   ],
   "source": [
    "a is c"
   ]
  },
  {
   "cell_type": "code",
   "execution_count": 10,
   "id": "5d39cff8",
   "metadata": {},
   "outputs": [],
   "source": [
    "a=['Apple','Banana']"
   ]
  },
  {
   "cell_type": "code",
   "execution_count": 11,
   "id": "c5c55d64",
   "metadata": {},
   "outputs": [],
   "source": [
    "c=a"
   ]
  },
  {
   "cell_type": "code",
   "execution_count": 12,
   "id": "40175db3",
   "metadata": {},
   "outputs": [
    {
     "data": {
      "text/plain": [
       "True"
      ]
     },
     "execution_count": 12,
     "metadata": {},
     "output_type": "execute_result"
    }
   ],
   "source": [
    "a is c"
   ]
  },
  {
   "cell_type": "code",
   "execution_count": 13,
   "id": "b1b1c9ed",
   "metadata": {},
   "outputs": [],
   "source": [
    "b=['Apple','Banana']"
   ]
  },
  {
   "cell_type": "code",
   "execution_count": 14,
   "id": "d5cc3e78",
   "metadata": {},
   "outputs": [
    {
     "data": {
      "text/plain": [
       "False"
      ]
     },
     "execution_count": 14,
     "metadata": {},
     "output_type": "execute_result"
    }
   ],
   "source": [
    "a is b"
   ]
  },
  {
   "cell_type": "code",
   "execution_count": 15,
   "id": "dc209a03",
   "metadata": {},
   "outputs": [
    {
     "data": {
      "text/plain": [
       "1352776050624"
      ]
     },
     "execution_count": 15,
     "metadata": {},
     "output_type": "execute_result"
    }
   ],
   "source": [
    "id(a)"
   ]
  },
  {
   "cell_type": "code",
   "execution_count": 16,
   "id": "5d8dfc9d",
   "metadata": {},
   "outputs": [
    {
     "data": {
      "text/plain": [
       "1352776050624"
      ]
     },
     "execution_count": 16,
     "metadata": {},
     "output_type": "execute_result"
    }
   ],
   "source": [
    "id(c)"
   ]
  },
  {
   "cell_type": "code",
   "execution_count": 17,
   "id": "bde30460",
   "metadata": {},
   "outputs": [
    {
     "data": {
      "text/plain": [
       "1352776047360"
      ]
     },
     "execution_count": 17,
     "metadata": {},
     "output_type": "execute_result"
    }
   ],
   "source": [
    "id(b)"
   ]
  },
  {
   "cell_type": "code",
   "execution_count": 18,
   "id": "9e8fed93",
   "metadata": {},
   "outputs": [
    {
     "data": {
      "text/plain": [
       "True"
      ]
     },
     "execution_count": 18,
     "metadata": {},
     "output_type": "execute_result"
    }
   ],
   "source": [
    "a is not b"
   ]
  },
  {
   "cell_type": "code",
   "execution_count": null,
   "id": "ba1f5276",
   "metadata": {},
   "outputs": [],
   "source": []
  },
  {
   "cell_type": "code",
   "execution_count": null,
   "id": "57a6aedf",
   "metadata": {},
   "outputs": [],
   "source": []
  },
  {
   "cell_type": "code",
   "execution_count": 20,
   "id": "c4d4f2b3",
   "metadata": {},
   "outputs": [],
   "source": [
    "# Membership operator"
   ]
  },
  {
   "cell_type": "code",
   "execution_count": 21,
   "id": "6bffc527",
   "metadata": {},
   "outputs": [
    {
     "data": {
      "text/plain": [
       "False"
      ]
     },
     "execution_count": 21,
     "metadata": {},
     "output_type": "execute_result"
    }
   ],
   "source": [
    "'s' in 'Sachin'"
   ]
  },
  {
   "cell_type": "code",
   "execution_count": 24,
   "id": "a6815a28",
   "metadata": {},
   "outputs": [
    {
     "data": {
      "text/plain": [
       "True"
      ]
     },
     "execution_count": 24,
     "metadata": {},
     "output_type": "execute_result"
    }
   ],
   "source": [
    "'s' in ['sachin','ravi','s']"
   ]
  },
  {
   "cell_type": "code",
   "execution_count": 29,
   "id": "122ad89c",
   "metadata": {},
   "outputs": [
    {
     "data": {
      "text/plain": [
       "True"
      ]
     },
     "execution_count": 29,
     "metadata": {},
     "output_type": "execute_result"
    }
   ],
   "source": [
    "'sac'  in 'sachin'"
   ]
  },
  {
   "cell_type": "code",
   "execution_count": 30,
   "id": "45f17e35",
   "metadata": {},
   "outputs": [
    {
     "data": {
      "text/plain": [
       "1"
      ]
     },
     "execution_count": 30,
     "metadata": {},
     "output_type": "execute_result"
    }
   ],
   "source": [
    "5&3"
   ]
  },
  {
   "cell_type": "code",
   "execution_count": 31,
   "id": "8caa4578",
   "metadata": {},
   "outputs": [
    {
     "data": {
      "text/plain": [
       "4"
      ]
     },
     "execution_count": 31,
     "metadata": {},
     "output_type": "execute_result"
    }
   ],
   "source": [
    "12&7"
   ]
  },
  {
   "cell_type": "code",
   "execution_count": 32,
   "id": "eb986b89",
   "metadata": {},
   "outputs": [
    {
     "data": {
      "text/plain": [
       "0"
      ]
     },
     "execution_count": 32,
     "metadata": {},
     "output_type": "execute_result"
    }
   ],
   "source": [
    "36 & 72"
   ]
  },
  {
   "cell_type": "code",
   "execution_count": 33,
   "id": "0a60c08a",
   "metadata": {},
   "outputs": [
    {
     "data": {
      "text/plain": [
       "7"
      ]
     },
     "execution_count": 33,
     "metadata": {},
     "output_type": "execute_result"
    }
   ],
   "source": [
    "5|3"
   ]
  },
  {
   "cell_type": "code",
   "execution_count": 34,
   "id": "caad0691",
   "metadata": {},
   "outputs": [
    {
     "data": {
      "text/plain": [
       "108"
      ]
     },
     "execution_count": 34,
     "metadata": {},
     "output_type": "execute_result"
    }
   ],
   "source": [
    "36|72"
   ]
  },
  {
   "cell_type": "code",
   "execution_count": 36,
   "id": "8643bde5",
   "metadata": {},
   "outputs": [
    {
     "data": {
      "text/plain": [
       "6"
      ]
     },
     "execution_count": 36,
     "metadata": {},
     "output_type": "execute_result"
    }
   ],
   "source": [
    "5^3"
   ]
  },
  {
   "cell_type": "code",
   "execution_count": 37,
   "id": "48143dc5",
   "metadata": {},
   "outputs": [
    {
     "data": {
      "text/plain": [
       "121"
      ]
     },
     "execution_count": 37,
     "metadata": {},
     "output_type": "execute_result"
    }
   ],
   "source": [
    "36^72+20|10+25&3**2"
   ]
  },
  {
   "cell_type": "code",
   "execution_count": 40,
   "id": "80dcd20b",
   "metadata": {},
   "outputs": [],
   "source": [
    "a=['usr1','usr2','usr3']\n",
    "d={}\n",
    "d=d.fromkeys(a,100)"
   ]
  },
  {
   "cell_type": "code",
   "execution_count": 41,
   "id": "54cf1a0f",
   "metadata": {},
   "outputs": [
    {
     "data": {
      "text/plain": [
       "{'usr1': 100, 'usr2': 100, 'usr3': 100}"
      ]
     },
     "execution_count": 41,
     "metadata": {},
     "output_type": "execute_result"
    }
   ],
   "source": [
    "d"
   ]
  },
  {
   "cell_type": "code",
   "execution_count": 42,
   "id": "7cc7c015",
   "metadata": {},
   "outputs": [],
   "source": [
    "a=dict(zip(['usr4','usr5','usr6'],[1000,1020,1040]))"
   ]
  },
  {
   "cell_type": "code",
   "execution_count": 43,
   "id": "f5b9f924",
   "metadata": {},
   "outputs": [
    {
     "data": {
      "text/plain": [
       "{'usr4': 1000, 'usr5': 1020, 'usr6': 1040}"
      ]
     },
     "execution_count": 43,
     "metadata": {},
     "output_type": "execute_result"
    }
   ],
   "source": [
    "a"
   ]
  },
  {
   "cell_type": "code",
   "execution_count": 44,
   "id": "b48c6f9d",
   "metadata": {},
   "outputs": [],
   "source": [
    "d.update(a)"
   ]
  },
  {
   "cell_type": "code",
   "execution_count": 46,
   "id": "101aff5b",
   "metadata": {},
   "outputs": [],
   "source": [
    "d.update({'a':10,'b':50})"
   ]
  },
  {
   "cell_type": "code",
   "execution_count": 47,
   "id": "28e67d08",
   "metadata": {},
   "outputs": [
    {
     "data": {
      "text/plain": [
       "{'usr1': 100,\n",
       " 'usr2': 100,\n",
       " 'usr3': 100,\n",
       " 'usr4': 1000,\n",
       " 'usr5': 1020,\n",
       " 'usr6': 1040,\n",
       " 'a': 10,\n",
       " 'b': 50}"
      ]
     },
     "execution_count": 47,
     "metadata": {},
     "output_type": "execute_result"
    }
   ],
   "source": [
    "d"
   ]
  },
  {
   "cell_type": "code",
   "execution_count": null,
   "id": "f3061988",
   "metadata": {},
   "outputs": [],
   "source": [
    "a=lambda i "
   ]
  }
 ],
 "metadata": {
  "kernelspec": {
   "display_name": "Python 3 (ipykernel)",
   "language": "python",
   "name": "python3"
  },
  "language_info": {
   "codemirror_mode": {
    "name": "ipython",
    "version": 3
   },
   "file_extension": ".py",
   "mimetype": "text/x-python",
   "name": "python",
   "nbconvert_exporter": "python",
   "pygments_lexer": "ipython3",
   "version": "3.11.5"
  }
 },
 "nbformat": 4,
 "nbformat_minor": 5
}
