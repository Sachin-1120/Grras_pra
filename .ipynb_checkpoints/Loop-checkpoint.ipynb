{
 "cells": [
  {
   "cell_type": "code",
   "execution_count": 1,
   "id": "e660fe1c",
   "metadata": {},
   "outputs": [
    {
     "data": {
      "text/plain": [
       "'SAchin  . a '"
      ]
     },
     "execution_count": 1,
     "metadata": {},
     "output_type": "execute_result"
    }
   ],
   "source": [
    "'SAchin , . a '.replace(',','')"
   ]
  },
  {
   "cell_type": "code",
   "execution_count": null,
   "id": "619aa4e6",
   "metadata": {},
   "outputs": [],
   "source": []
  },
  {
   "cell_type": "code",
   "execution_count": null,
   "id": "7844be10",
   "metadata": {},
   "outputs": [],
   "source": [
    "While statement :\n",
    "    \n",
    "    task\n",
    "    \n",
    "    updatrion Statement\n",
    "    "
   ]
  },
  {
   "cell_type": "code",
   "execution_count": null,
   "id": "9d7ab419",
   "metadata": {},
   "outputs": [],
   "source": [
    "#list of numbers  Even/odd through While Loop "
   ]
  },
  {
   "cell_type": "code",
   "execution_count": 2,
   "id": "9025bf90",
   "metadata": {},
   "outputs": [
    {
     "name": "stdout",
     "output_type": "stream",
     "text": [
      "Enter a number17\n",
      "Odd\n"
     ]
    }
   ],
   "source": [
    "n=int(input('Enter a number'))\n",
    "if n%2==0:\n",
    "    print('Even')\n",
    "else:\n",
    "    print('Odd')"
   ]
  },
  {
   "cell_type": "code",
   "execution_count": 8,
   "id": "bcac111d",
   "metadata": {},
   "outputs": [
    {
     "name": "stdout",
     "output_type": "stream",
     "text": [
      "Enter Numbers10 11 21\n",
      "10 is Even\n",
      "11 is Odd\n",
      "21 is Odd\n"
     ]
    }
   ],
   "source": [
    "l=list(map(int,input('Enter Numbers').split()))\n",
    "i=0\n",
    "while i<len(l):\n",
    "    if l[i]%2==0:\n",
    "        print(f'{l[i]} is Even')\n",
    "    else:\n",
    "        print(f'{l[i]} is Odd')\n",
    "    i+=1\n",
    "    "
   ]
  },
  {
   "cell_type": "code",
   "execution_count": 19,
   "id": "a04035d7",
   "metadata": {},
   "outputs": [
    {
     "name": "stdout",
     "output_type": "stream",
     "text": [
      "Enter a number12\n",
      "Not Prime\n"
     ]
    }
   ],
   "source": [
    "n=int(input('Enter a number'))\n",
    "i=2\n",
    "f=0\n",
    "while i<n and f==0:\n",
    "    if n%i==0:\n",
    "        f=1\n",
    "        \n",
    "    i+=1\n",
    "if f==0:\n",
    "    print('Prime')\n",
    "else:\n",
    "    print('Not Prime')\n",
    "        "
   ]
  },
  {
   "cell_type": "code",
   "execution_count": 15,
   "id": "751c5593",
   "metadata": {},
   "outputs": [
    {
     "name": "stdout",
     "output_type": "stream",
     "text": [
      "Enter a number132\n",
      "Not Prime\n"
     ]
    }
   ],
   "source": [
    "n=int(input('Enter a number'))\n",
    "i=2\n",
    "\n",
    "while i<n and f==0:\n",
    "    if n%i==0:\n",
    "        print('Not Prime')\n",
    "        break\n",
    "    i+=1\n",
    "else:\n",
    "    print('Prime')\n",
    "        "
   ]
  },
  {
   "cell_type": "code",
   "execution_count": null,
   "id": "99983c64",
   "metadata": {},
   "outputs": [],
   "source": []
  },
  {
   "cell_type": "code",
   "execution_count": 17,
   "id": "14656208",
   "metadata": {},
   "outputs": [
    {
     "name": "stdout",
     "output_type": "stream",
     "text": [
      "Enter a num13\n",
      "Prime\n"
     ]
    }
   ],
   "source": [
    "n=int(input('Enter a num'))\n",
    "i=2\n",
    "while i<n:\n",
    "    if n%i==0:\n",
    "        print('Not Prime')\n",
    "        break\n",
    "    i+=1\n",
    "else:\n",
    "    print('Prime')"
   ]
  },
  {
   "cell_type": "code",
   "execution_count": 25,
   "id": "5bf0e14f",
   "metadata": {},
   "outputs": [
    {
     "name": "stdout",
     "output_type": "stream",
     "text": [
      "Enter a String\n",
      "123\n",
      "Not Palindrome\n"
     ]
    }
   ],
   "source": [
    "a=input('Enter a String\\n')\n",
    "if a==a[::-1]:\n",
    "    print('Palindrome')\n",
    "else :\n",
    "    print('Not Palindrome')"
   ]
  },
  {
   "cell_type": "code",
   "execution_count": null,
   "id": "9e700c5c",
   "metadata": {},
   "outputs": [],
   "source": []
  },
  {
   "cell_type": "code",
   "execution_count": null,
   "id": "9a0b1ef7",
   "metadata": {},
   "outputs": [],
   "source": [
    "i=0\n",
    "while True:\n",
    "    print(i)\n",
    "    if i^3==0:\n",
    "        break\n",
    "    i+=1\n",
    "else:\n",
    "    print('End')"
   ]
  },
  {
   "cell_type": "code",
   "execution_count": null,
   "id": "69293531",
   "metadata": {},
   "outputs": [],
   "source": []
  }
 ],
 "metadata": {
  "kernelspec": {
   "display_name": "Python 3 (ipykernel)",
   "language": "python",
   "name": "python3"
  },
  "language_info": {
   "codemirror_mode": {
    "name": "ipython",
    "version": 3
   },
   "file_extension": ".py",
   "mimetype": "text/x-python",
   "name": "python",
   "nbconvert_exporter": "python",
   "pygments_lexer": "ipython3",
   "version": "3.11.5"
  }
 },
 "nbformat": 4,
 "nbformat_minor": 5
}
