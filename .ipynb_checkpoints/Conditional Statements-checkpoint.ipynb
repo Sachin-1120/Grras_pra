{
 "cells": [
  {
   "cell_type": "code",
   "execution_count": 3,
   "id": "923a8733",
   "metadata": {},
   "outputs": [
    {
     "name": "stdout",
     "output_type": "stream",
     "text": [
      "5 is not less than 3\n"
     ]
    }
   ],
   "source": [
    "if 5<3:\n",
    "    print('Hello')\n",
    "    print('Bye')\n",
    "else:\n",
    "    print('5 is not less than 3')\n",
    "    "
   ]
  },
  {
   "cell_type": "code",
   "execution_count": 4,
   "id": "d0c1b10e",
   "metadata": {},
   "outputs": [
    {
     "name": "stdout",
     "output_type": "stream",
     "text": [
      "Enter Your age25\n",
      "Eligible for Voting\n"
     ]
    }
   ],
   "source": [
    "age=int(input('Enter Your age'))\n",
    "if age>18:\n",
    "    print('Eligible for Voting')\n",
    "else :\n",
    "    print('Not  Eligible for Voting')\n",
    "\n",
    "    "
   ]
  },
  {
   "cell_type": "code",
   "execution_count": 7,
   "id": "7e41aebb",
   "metadata": {},
   "outputs": [
    {
     "name": "stdout",
     "output_type": "stream",
     "text": [
      "Enter a number8\n",
      "Odd\n"
     ]
    }
   ],
   "source": [
    "n=int(input('Enter a number'))\n",
    "if n%2==0 and n%10==0:\n",
    "    print('Even')\n",
    "else :\n",
    "    print('Odd')"
   ]
  },
  {
   "cell_type": "code",
   "execution_count": 9,
   "id": "290224e3",
   "metadata": {},
   "outputs": [
    {
     "name": "stdout",
     "output_type": "stream",
     "text": [
      "Enter a number30\n",
      "Even\n"
     ]
    }
   ],
   "source": [
    "n=int(input('Enter a number'))\n",
    "if n%2==0:\n",
    "    if n%10==0:\n",
    "        print('Even')\n",
    "    else :\n",
    "        print('Odd')\n",
    "else:\n",
    "    print('Odd')\n",
    "    "
   ]
  },
  {
   "cell_type": "code",
   "execution_count": 19,
   "id": "4e4f1f57",
   "metadata": {},
   "outputs": [
    {
     "name": "stdout",
     "output_type": "stream",
     "text": [
      "Enter Percentage85\n",
      "b\n"
     ]
    }
   ],
   "source": [
    "per=int(input('Enter Percentage'))\n",
    "if per>90:\n",
    "    print('A')\n",
    "elif per>80  :\n",
    "    print('b')\n",
    "elif per>70:\n",
    "    print('C')\n",
    "else:\n",
    "    print('Fail')"
   ]
  },
  {
   "cell_type": "code",
   "execution_count": 23,
   "id": "e17e0a85",
   "metadata": {},
   "outputs": [
    {
     "name": "stdout",
     "output_type": "stream",
     "text": [
      "Enter Percentage91\n",
      "A\n"
     ]
    }
   ],
   "source": [
    "per=int(input('Enter Percentage'))\n",
    "if per>90:\n",
    "    print('A')\n",
    "else :\n",
    "    if per>80:\n",
    "        print('B')\n",
    "    else :\n",
    "        if per>70:\n",
    "            print('C')\n",
    "        else :\n",
    "            print('Fail')"
   ]
  },
  {
   "cell_type": "code",
   "execution_count": 24,
   "id": "993d41a8",
   "metadata": {},
   "outputs": [
    {
     "name": "stdout",
     "output_type": "stream",
     "text": [
      "Bye\n"
     ]
    }
   ],
   "source": [
    "if []:\n",
    "    print('Hi')\n",
    "if '_':\n",
    "    print('Bye')"
   ]
  },
  {
   "cell_type": "code",
   "execution_count": 28,
   "id": "2990c32c",
   "metadata": {},
   "outputs": [
    {
     "name": "stdout",
     "output_type": "stream",
     "text": [
      "Hi 7\n"
     ]
    }
   ],
   "source": [
    "if [None] and 7&3:\n",
    "    print('Hi',7|3)\n",
    "else:\n",
    "    print('Bye',7&3|2)\n",
    "    "
   ]
  },
  {
   "cell_type": "code",
   "execution_count": 26,
   "id": "f9620370",
   "metadata": {},
   "outputs": [
    {
     "data": {
      "text/plain": [
       "7"
      ]
     },
     "execution_count": 26,
     "metadata": {},
     "output_type": "execute_result"
    }
   ],
   "source": [
    "7|3"
   ]
  },
  {
   "cell_type": "code",
   "execution_count": 3,
   "id": "bc91e26f",
   "metadata": {},
   "outputs": [
    {
     "name": "stdout",
     "output_type": "stream",
     "text": [
      "GoodBye\n"
     ]
    }
   ],
   "source": [
    "if '':\n",
    "    print('Hello')\n",
    "elif 0:\n",
    "    print('Bye')\n",
    "else :\n",
    "    print('GoodBye')"
   ]
  },
  {
   "cell_type": "code",
   "execution_count": 5,
   "id": "3dd5cdbf",
   "metadata": {},
   "outputs": [
    {
     "name": "stdout",
     "output_type": "stream",
     "text": [
      "Enter Three Numbers2 3 5\n"
     ]
    }
   ],
   "source": [
    "a,b,c=map(int,input('Enter Three Numbers').split())"
   ]
  },
  {
   "cell_type": "code",
   "execution_count": 8,
   "id": "3651ab4a",
   "metadata": {},
   "outputs": [
    {
     "data": {
      "text/plain": [
       "5"
      ]
     },
     "execution_count": 8,
     "metadata": {},
     "output_type": "execute_result"
    }
   ],
   "source": [
    "c"
   ]
  },
  {
   "cell_type": "code",
   "execution_count": 10,
   "id": "5cb16530",
   "metadata": {},
   "outputs": [],
   "source": [
    "if a>b:\n",
    "    if a>c:\n",
    "        if a==2:\n",
    "            print('a is greatest')\n",
    "    else:\n",
    "        print('c is greatest')\n"
   ]
  },
  {
   "cell_type": "code",
   "execution_count": null,
   "id": "d3e170cc",
   "metadata": {},
   "outputs": [],
   "source": [
    "if a>b and a>c:\n",
    "    print('a is greatest')"
   ]
  },
  {
   "cell_type": "code",
   "execution_count": 11,
   "id": "002bc68d",
   "metadata": {},
   "outputs": [
    {
     "name": "stdout",
     "output_type": "stream",
     "text": [
      "Enter NameSachin Ravi\n"
     ]
    }
   ],
   "source": [
    "a,b=map(str,input('Enter Name').split())"
   ]
  },
  {
   "cell_type": "code",
   "execution_count": 14,
   "id": "cfcf101a",
   "metadata": {},
   "outputs": [
    {
     "name": "stdout",
     "output_type": "stream",
     "text": [
      "Sachiv\n"
     ]
    }
   ],
   "source": [
    "\n",
    "if a[0].lower()=='s':\n",
    "    if len(a)>=4:\n",
    "        result=a[:4]\n",
    "    else:\n",
    "        result=a\n",
    "if b[-1].lower()=='i':\n",
    "    if len(b)>=2:\n",
    "        result+=b[-1:-3:-1]\n",
    "    else :\n",
    "        result+=b[::-1]\n",
    "print(result)"
   ]
  },
  {
   "cell_type": "code",
   "execution_count": 19,
   "id": "09856f80",
   "metadata": {},
   "outputs": [
    {
     "name": "stdout",
     "output_type": "stream",
     "text": [
      "Enter age10\n",
      "Not Eligible\n"
     ]
    }
   ],
   "source": [
    "age=list(map(int,input('Enter age').split()))\n",
    "i=0\n",
    "while i<len(age):\n",
    "    if age[i]>18:\n",
    "        print('Eligible')\n",
    "    else :\n",
    "        print('Not Eligible')\n",
    "    i=i+1\n"
   ]
  },
  {
   "cell_type": "code",
   "execution_count": null,
   "id": "80162c0c",
   "metadata": {},
   "outputs": [],
   "source": [
    "\n",
    "\n"
   ]
  }
 ],
 "metadata": {
  "kernelspec": {
   "display_name": "Python 3 (ipykernel)",
   "language": "python",
   "name": "python3"
  },
  "language_info": {
   "codemirror_mode": {
    "name": "ipython",
    "version": 3
   },
   "file_extension": ".py",
   "mimetype": "text/x-python",
   "name": "python",
   "nbconvert_exporter": "python",
   "pygments_lexer": "ipython3",
   "version": "3.11.5"
  }
 },
 "nbformat": 4,
 "nbformat_minor": 5
}
